{
 "cells": [
  {
   "cell_type": "markdown",
   "metadata": {},
   "source": [
    "## Name: Crystal Lau\n",
    "## Date: 06/07/2018\n",
    "## Challenge: Preparing a dataset for modeling"
   ]
  },
  {
   "cell_type": "markdown",
   "metadata": {},
   "source": [
    "Assignment:\n",
    "- select an outcome variable\n",
    "- pick 4 or 5 other variables (one to two categorical, three to four continuous)\n",
    "- explore variables using the univariate and bivariate methods\n",
    "- create ten new features and explain reasoning behind each one\n",
    "- use filtering methods to select the five best features and justify choices"
   ]
  },
  {
   "cell_type": "code",
   "execution_count": null,
   "metadata": {},
   "outputs": [],
   "source": [
    "import pandas as pd\n",
    "import numpy as np\n",
    "import matplotlib.pyplot as plt\n",
    "import seaborn as sns\n",
    "import math\n",
    "from matplotlib.mlab import PCA as mlabPCA\n",
    "from sklearn.preprocessing import StandardScaler\n",
    "from sklearn.decomposition import PCA \n",
    "\n",
    "df = pd.read_csv('table_8_offenses_known_to_law_enforcement_new_york_by_city_2013.csv')"
   ]
  },
  {
   "cell_type": "code",
   "execution_count": null,
   "metadata": {},
   "outputs": [],
   "source": [
    "# preview of data\n",
    "df.head()"
   ]
  },
  {
   "cell_type": "markdown",
   "metadata": {},
   "source": [
    "### Data Exploration"
   ]
  },
  {
   "cell_type": "code",
   "execution_count": null,
   "metadata": {},
   "outputs": [],
   "source": [
    "# columns and data types\n",
    "df.dtypes"
   ]
  },
  {
   "cell_type": "code",
   "execution_count": null,
   "metadata": {},
   "outputs": [],
   "source": [
    "# renaming columns into workable titles without all the newline nonsense\n",
    "df.columns = ['City', 'Population', 'Violent_Crime', 'Murder_Nonnegligent_Manslaughter',\n",
    "              'Rape_1', 'Rape_2', 'Robbery', 'Aggravated_Assault', 'Property_Crime', 'Burglary',\n",
    "              'Larceny_Theft', 'Motor_Vehicle_Theft', 'Arson']"
   ]
  },
  {
   "cell_type": "code",
   "execution_count": null,
   "metadata": {
    "scrolled": true
   },
   "outputs": [],
   "source": [
    "# stripping commas\n",
    "df['Population'] = df['Population'].str.replace(',','')\n",
    "df['Violent_Crime'] = df['Violent_Crime'].str.replace(',','')\n",
    "df['Rape_2'] = df['Rape_2'].str.replace(',','')\n",
    "df['Robbery'] = df['Robbery'].str.replace(',','')\n",
    "df['Aggravated_Assault'] = df['Aggravated_Assault'].str.replace(',','')\n",
    "df['Property_Crime'] = df['Property_Crime'].str.replace(',','')\n",
    "df['Burglary'] = df['Burglary'].str.replace(',','')\n",
    "df['Larceny_Theft'] = df['Larceny_Theft'].str.replace(',','')\n",
    "df['Motor_Vehicle_Theft'] = df['Motor_Vehicle_Theft'].str.replace(',','')"
   ]
  },
  {
   "cell_type": "code",
   "execution_count": null,
   "metadata": {},
   "outputs": [],
   "source": [
    "df.head()"
   ]
  },
  {
   "cell_type": "code",
   "execution_count": null,
   "metadata": {},
   "outputs": [],
   "source": [
    "# converting columns from objects to floats\n",
    "df.astype({'Population':float, 'Violent_Crime':float, 'Rape_2':float, 'Robbery':float, \n",
    "           'Aggravated_Assault':float, 'Property_Crime':float, 'Burglary':float,\n",
    "           'Larceny_Theft':float, 'Motor_Vehicle_Theft':float})"
   ]
  },
  {
   "cell_type": "code",
   "execution_count": null,
   "metadata": {},
   "outputs": [],
   "source": [
    "# stripping whitespace\n",
    "df.columns = df.columns.str.strip()"
   ]
  },
  {
   "cell_type": "code",
   "execution_count": null,
   "metadata": {
    "scrolled": true
   },
   "outputs": [],
   "source": [
    "(df.isnull().sum()/df.shape[0])*100"
   ]
  },
  {
   "cell_type": "code",
   "execution_count": null,
   "metadata": {},
   "outputs": [],
   "source": [
    "df.drop(['Rape_1'], axis=1, inplace=True)"
   ]
  },
  {
   "cell_type": "code",
   "execution_count": null,
   "metadata": {},
   "outputs": [],
   "source": [
    "df.fillna(0, inplace=True)"
   ]
  },
  {
   "cell_type": "markdown",
   "metadata": {},
   "source": [
    "### Selecting variables"
   ]
  },
  {
   "cell_type": "markdown",
   "metadata": {},
   "source": [
    "Categorical Variable:\n",
    "- City\n",
    "\n",
    "Continuous Variables:\n",
    "- Population\n",
    "- Violent_Crime\n",
    "- Robbery\n",
    "- Propety_Crime\n",
    "- Larceny_Theft"
   ]
  },
  {
   "cell_type": "code",
   "execution_count": null,
   "metadata": {},
   "outputs": [],
   "source": [
    "df[:10].drop(['City'], axis=1)"
   ]
  },
  {
   "cell_type": "code",
   "execution_count": null,
   "metadata": {},
   "outputs": [],
   "source": [
    "# making scatterplot matrix of variables\n",
    "sns.set_style('white')\n",
    "\n",
    "g = sns.PairGrid(df.drop(['City'], axis=1), diag_sharey=False)\n",
    "g.map_upper(plt.scatter, alpha=.5)\n",
    "#g.map_lower(sns.regplot, scatter_kws=dict(alpha=0))\n",
    "g.map_diag(sns.kdeplot, lw=3)\n",
    "plt.show()"
   ]
  },
  {
   "cell_type": "markdown",
   "metadata": {},
   "source": [
    "### Feature Engineering"
   ]
  },
  {
   "cell_type": "markdown",
   "metadata": {},
   "source": [
    "- build models that capture the general trend of the data\n",
    "- rather than using all the features, select parts of the columns that\n",
    "- look at columns and see different ways to select features\n",
    "- filter: looking at correlation btwn variable of interest and each column\n",
    "- part of sci-kit learn library"
   ]
  },
  {
   "cell_type": "markdown",
   "metadata": {},
   "source": [
    "### Filtering"
   ]
  }
 ],
 "metadata": {
  "kernelspec": {
   "display_name": "Python 3",
   "language": "python",
   "name": "python3"
  },
  "language_info": {
   "codemirror_mode": {
    "name": "ipython",
    "version": 3
   },
   "file_extension": ".py",
   "mimetype": "text/x-python",
   "name": "python",
   "nbconvert_exporter": "python",
   "pygments_lexer": "ipython3",
   "version": "3.6.4"
  }
 },
 "nbformat": 4,
 "nbformat_minor": 2
}
